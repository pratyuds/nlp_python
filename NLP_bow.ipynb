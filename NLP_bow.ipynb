{
 "cells": [
  {
   "cell_type": "code",
   "execution_count": 1,
   "id": "05f74cc3",
   "metadata": {},
   "outputs": [],
   "source": [
    "import nltk"
   ]
  },
  {
   "cell_type": "code",
   "execution_count": 2,
   "id": "c861a715",
   "metadata": {},
   "outputs": [],
   "source": [
    "paragraph = \"\"\"\n",
    "Narendra Damodardas Modi (Gujarati: [ˈnəɾendɾə dɑmodəɾˈdɑs ˈmodiː] ⓘ; born 17 September 1950)[b] is an Indian politician who has served as the 14th prime minister of India since May 2014. Modi was the chief minister of Gujarat from 2001 to 2014 and is the Member of Parliament (MP) for Varanasi. He is a member of the Bharatiya Janata Party (BJP) and of the Rashtriya Swayamsevak Sangh (RSS), a right wing Hindu nationalist paramilitary volunteer organisation. He is the longest-serving prime minister from outside the Indian National Congress.\n",
    "\n",
    "Modi was born and raised in Vadnagar in northeastern Gujarat, where he completed his secondary education. He was introduced to the RSS at the age of eight. His account of helping his father sell tea at the Vadnagar railway station has not been reliably corroborated. At age 18, he was married to Jashodaben Modi, whom he abandoned soon after, only publicly acknowledging her four decades later when legally required to do so. Modi became a full-time worker for the RSS in Gujarat in 1971. The RSS assigned him to the BJP in 1985 and he held several positions within the party hierarchy until 2001, rising to the rank of general secretary.[c]\n",
    "\n",
    "\"\"\""
   ]
  },
  {
   "cell_type": "code",
   "execution_count": 3,
   "id": "8fb56c42",
   "metadata": {},
   "outputs": [
    {
     "data": {
      "text/plain": [
       "'\\nNarendra Damodardas Modi (Gujarati: [ˈnəɾendɾə dɑmodəɾˈdɑs ˈmodiː] ⓘ; born 17 September 1950)[b] is an Indian politician who has served as the 14th prime minister of India since May 2014. Modi was the chief minister of Gujarat from 2001 to 2014 and is the Member of Parliament (MP) for Varanasi. He is a member of the Bharatiya Janata Party (BJP) and of the Rashtriya Swayamsevak Sangh (RSS), a right wing Hindu nationalist paramilitary volunteer organisation. He is the longest-serving prime minister from outside the Indian National Congress.\\n\\nModi was born and raised in Vadnagar in northeastern Gujarat, where he completed his secondary education. He was introduced to the RSS at the age of eight. His account of helping his father sell tea at the Vadnagar railway station has not been reliably corroborated. At age 18, he was married to Jashodaben Modi, whom he abandoned soon after, only publicly acknowledging her four decades later when legally required to do so. Modi became a full-time worker for the RSS in Gujarat in 1971. The RSS assigned him to the BJP in 1985 and he held several positions within the party hierarchy until 2001, rising to the rank of general secretary.[c]\\n\\n'"
      ]
     },
     "execution_count": 3,
     "metadata": {},
     "output_type": "execute_result"
    }
   ],
   "source": [
    "paragraph"
   ]
  },
  {
   "cell_type": "code",
   "execution_count": 4,
   "id": "a24eb934",
   "metadata": {},
   "outputs": [],
   "source": [
    "from nltk.stem import PorterStemmer"
   ]
  },
  {
   "cell_type": "code",
   "execution_count": 5,
   "id": "696dc6b8",
   "metadata": {},
   "outputs": [],
   "source": [
    "from nltk.corpus import stopwords"
   ]
  },
  {
   "cell_type": "code",
   "execution_count": 8,
   "id": "fdd3ff2c",
   "metadata": {},
   "outputs": [
    {
     "name": "stderr",
     "output_type": "stream",
     "text": [
      "[nltk_data] Downloading package punkt to\n",
      "[nltk_data]     C:\\Users\\praty\\AppData\\Roaming\\nltk_data...\n",
      "[nltk_data]   Package punkt is already up-to-date!\n"
     ]
    }
   ],
   "source": [
    "## tokenization -- converts paragraph-sentences-words\n",
    "nltk.download('punkt')\n",
    "sentences = nltk.sent_tokenize(paragraph)"
   ]
  },
  {
   "cell_type": "code",
   "execution_count": 9,
   "id": "7285c703",
   "metadata": {},
   "outputs": [
    {
     "name": "stdout",
     "output_type": "stream",
     "text": [
      "['\\nNarendra Damodardas Modi (Gujarati: [ˈnəɾendɾə dɑmodəɾˈdɑs ˈmodiː] ⓘ; born 17 September 1950)[b] is an Indian politician who has served as the 14th prime minister of India since May 2014.', 'Modi was the chief minister of Gujarat from 2001 to 2014 and is the Member of Parliament (MP) for Varanasi.', 'He is a member of the Bharatiya Janata Party (BJP) and of the Rashtriya Swayamsevak Sangh (RSS), a right wing Hindu nationalist paramilitary volunteer organisation.', 'He is the longest-serving prime minister from outside the Indian National Congress.', 'Modi was born and raised in Vadnagar in northeastern Gujarat, where he completed his secondary education.', 'He was introduced to the RSS at the age of eight.', 'His account of helping his father sell tea at the Vadnagar railway station has not been reliably corroborated.', 'At age 18, he was married to Jashodaben Modi, whom he abandoned soon after, only publicly acknowledging her four decades later when legally required to do so.', 'Modi became a full-time worker for the RSS in Gujarat in 1971.', 'The RSS assigned him to the BJP in 1985 and he held several positions within the party hierarchy until 2001, rising to the rank of general secretary.', '[c]']\n"
     ]
    }
   ],
   "source": [
    "print(sentences)"
   ]
  },
  {
   "cell_type": "code",
   "execution_count": 24,
   "id": "37a873c7",
   "metadata": {},
   "outputs": [
    {
     "data": {
      "text/plain": [
       "list"
      ]
     },
     "execution_count": 24,
     "metadata": {},
     "output_type": "execute_result"
    }
   ],
   "source": [
    "type(sentences)"
   ]
  },
  {
   "cell_type": "code",
   "execution_count": 10,
   "id": "f24bd69f",
   "metadata": {},
   "outputs": [],
   "source": [
    "stemmer = PorterStemmer()"
   ]
  },
  {
   "cell_type": "code",
   "execution_count": 11,
   "id": "bb07e6c9",
   "metadata": {},
   "outputs": [
    {
     "data": {
      "text/plain": [
       "'histori'"
      ]
     },
     "execution_count": 11,
     "metadata": {},
     "output_type": "execute_result"
    }
   ],
   "source": [
    "stemmer.stem('history')"
   ]
  },
  {
   "cell_type": "code",
   "execution_count": 12,
   "id": "82dcc58c",
   "metadata": {},
   "outputs": [],
   "source": [
    "from nltk.stem import WordNetLemmatizer"
   ]
  },
  {
   "cell_type": "code",
   "execution_count": 13,
   "id": "d60c456e",
   "metadata": {},
   "outputs": [],
   "source": [
    "lemmatizer = WordNetLemmatizer()"
   ]
  },
  {
   "cell_type": "code",
   "execution_count": 16,
   "id": "99bd5802",
   "metadata": {},
   "outputs": [
    {
     "data": {
      "text/plain": [
       "'go'"
      ]
     },
     "execution_count": 16,
     "metadata": {},
     "output_type": "execute_result"
    }
   ],
   "source": [
    "lemmatizer.lemmatize('goes')"
   ]
  },
  {
   "cell_type": "code",
   "execution_count": 17,
   "id": "f7287c36",
   "metadata": {},
   "outputs": [],
   "source": [
    "import re"
   ]
  },
  {
   "cell_type": "code",
   "execution_count": 19,
   "id": "04f67eed",
   "metadata": {},
   "outputs": [
    {
     "data": {
      "text/plain": [
       "11"
      ]
     },
     "execution_count": 19,
     "metadata": {},
     "output_type": "execute_result"
    }
   ],
   "source": [
    "len(sentences)"
   ]
  },
  {
   "cell_type": "code",
   "execution_count": 21,
   "id": "a21eacc5",
   "metadata": {},
   "outputs": [],
   "source": [
    "corpus =[]\n",
    "for i in range(len(sentences)):\n",
    "    review = re.sub('[^a-zA-Z]',' ',sentences[i])\n",
    "    review=review.lower()\n",
    "    corpus.append(review)"
   ]
  },
  {
   "cell_type": "code",
   "execution_count": 22,
   "id": "c4a91e2d",
   "metadata": {},
   "outputs": [
    {
     "data": {
      "text/plain": [
       "[' narendra damodardas modi  gujarati    n  end   d mod   d s  modi      born    september       b  is an indian politician who has served as the   th prime minister of india since may      ',\n",
       " 'modi was the chief minister of gujarat from      to      and is the member of parliament  mp  for varanasi ',\n",
       " 'he is a member of the bharatiya janata party  bjp  and of the rashtriya swayamsevak sangh  rss   a right wing hindu nationalist paramilitary volunteer organisation ',\n",
       " 'he is the longest serving prime minister from outside the indian national congress ',\n",
       " 'modi was born and raised in vadnagar in northeastern gujarat  where he completed his secondary education ',\n",
       " 'he was introduced to the rss at the age of eight ',\n",
       " 'his account of helping his father sell tea at the vadnagar railway station has not been reliably corroborated ',\n",
       " 'at age     he was married to jashodaben modi  whom he abandoned soon after  only publicly acknowledging her four decades later when legally required to do so ',\n",
       " 'modi became a full time worker for the rss in gujarat in      ',\n",
       " 'the rss assigned him to the bjp in      and he held several positions within the party hierarchy until       rising to the rank of general secretary ',\n",
       " ' c ']"
      ]
     },
     "execution_count": 22,
     "metadata": {},
     "output_type": "execute_result"
    }
   ],
   "source": [
    "corpus"
   ]
  },
  {
   "cell_type": "code",
   "execution_count": 30,
   "id": "5d9935df",
   "metadata": {},
   "outputs": [
    {
     "data": {
      "text/plain": [
       "['i',\n",
       " 'me',\n",
       " 'my',\n",
       " 'myself',\n",
       " 'we',\n",
       " 'our',\n",
       " 'ours',\n",
       " 'ourselves',\n",
       " 'you',\n",
       " \"you're\",\n",
       " \"you've\",\n",
       " \"you'll\",\n",
       " \"you'd\",\n",
       " 'your',\n",
       " 'yours',\n",
       " 'yourself',\n",
       " 'yourselves',\n",
       " 'he',\n",
       " 'him',\n",
       " 'his',\n",
       " 'himself',\n",
       " 'she',\n",
       " \"she's\",\n",
       " 'her',\n",
       " 'hers',\n",
       " 'herself',\n",
       " 'it',\n",
       " \"it's\",\n",
       " 'its',\n",
       " 'itself',\n",
       " 'they',\n",
       " 'them',\n",
       " 'their',\n",
       " 'theirs',\n",
       " 'themselves',\n",
       " 'what',\n",
       " 'which',\n",
       " 'who',\n",
       " 'whom',\n",
       " 'this',\n",
       " 'that',\n",
       " \"that'll\",\n",
       " 'these',\n",
       " 'those',\n",
       " 'am',\n",
       " 'is',\n",
       " 'are',\n",
       " 'was',\n",
       " 'were',\n",
       " 'be',\n",
       " 'been',\n",
       " 'being',\n",
       " 'have',\n",
       " 'has',\n",
       " 'had',\n",
       " 'having',\n",
       " 'do',\n",
       " 'does',\n",
       " 'did',\n",
       " 'doing',\n",
       " 'a',\n",
       " 'an',\n",
       " 'the',\n",
       " 'and',\n",
       " 'but',\n",
       " 'if',\n",
       " 'or',\n",
       " 'because',\n",
       " 'as',\n",
       " 'until',\n",
       " 'while',\n",
       " 'of',\n",
       " 'at',\n",
       " 'by',\n",
       " 'for',\n",
       " 'with',\n",
       " 'about',\n",
       " 'against',\n",
       " 'between',\n",
       " 'into',\n",
       " 'through',\n",
       " 'during',\n",
       " 'before',\n",
       " 'after',\n",
       " 'above',\n",
       " 'below',\n",
       " 'to',\n",
       " 'from',\n",
       " 'up',\n",
       " 'down',\n",
       " 'in',\n",
       " 'out',\n",
       " 'on',\n",
       " 'off',\n",
       " 'over',\n",
       " 'under',\n",
       " 'again',\n",
       " 'further',\n",
       " 'then',\n",
       " 'once',\n",
       " 'here',\n",
       " 'there',\n",
       " 'when',\n",
       " 'where',\n",
       " 'why',\n",
       " 'how',\n",
       " 'all',\n",
       " 'any',\n",
       " 'both',\n",
       " 'each',\n",
       " 'few',\n",
       " 'more',\n",
       " 'most',\n",
       " 'other',\n",
       " 'some',\n",
       " 'such',\n",
       " 'no',\n",
       " 'nor',\n",
       " 'not',\n",
       " 'only',\n",
       " 'own',\n",
       " 'same',\n",
       " 'so',\n",
       " 'than',\n",
       " 'too',\n",
       " 'very',\n",
       " 's',\n",
       " 't',\n",
       " 'can',\n",
       " 'will',\n",
       " 'just',\n",
       " 'don',\n",
       " \"don't\",\n",
       " 'should',\n",
       " \"should've\",\n",
       " 'now',\n",
       " 'd',\n",
       " 'll',\n",
       " 'm',\n",
       " 'o',\n",
       " 're',\n",
       " 've',\n",
       " 'y',\n",
       " 'ain',\n",
       " 'aren',\n",
       " \"aren't\",\n",
       " 'couldn',\n",
       " \"couldn't\",\n",
       " 'didn',\n",
       " \"didn't\",\n",
       " 'doesn',\n",
       " \"doesn't\",\n",
       " 'hadn',\n",
       " \"hadn't\",\n",
       " 'hasn',\n",
       " \"hasn't\",\n",
       " 'haven',\n",
       " \"haven't\",\n",
       " 'isn',\n",
       " \"isn't\",\n",
       " 'ma',\n",
       " 'mightn',\n",
       " \"mightn't\",\n",
       " 'mustn',\n",
       " \"mustn't\",\n",
       " 'needn',\n",
       " \"needn't\",\n",
       " 'shan',\n",
       " \"shan't\",\n",
       " 'shouldn',\n",
       " \"shouldn't\",\n",
       " 'wasn',\n",
       " \"wasn't\",\n",
       " 'weren',\n",
       " \"weren't\",\n",
       " 'won',\n",
       " \"won't\",\n",
       " 'wouldn',\n",
       " \"wouldn't\"]"
      ]
     },
     "execution_count": 30,
     "metadata": {},
     "output_type": "execute_result"
    }
   ],
   "source": [
    "stopwords.words('english')"
   ]
  },
  {
   "cell_type": "code",
   "execution_count": 29,
   "id": "f33a4a9a",
   "metadata": {},
   "outputs": [
    {
     "name": "stdout",
     "output_type": "stream",
     "text": [
      "narendra\n",
      "damodarda\n",
      "modi\n",
      "gujarati\n",
      "n\n",
      "end\n",
      "mod\n",
      "modi\n",
      "born\n",
      "septemb\n",
      "b\n",
      "indian\n",
      "politician\n",
      "serv\n",
      "th\n",
      "prime\n",
      "minist\n",
      "india\n",
      "sinc\n",
      "may\n",
      "modi\n",
      "chief\n",
      "minist\n",
      "gujarat\n",
      "member\n",
      "parliament\n",
      "mp\n",
      "varanasi\n",
      "member\n",
      "bharatiya\n",
      "janata\n",
      "parti\n",
      "bjp\n",
      "rashtriya\n",
      "swayamsevak\n",
      "sangh\n",
      "rss\n",
      "right\n",
      "wing\n",
      "hindu\n",
      "nationalist\n",
      "paramilitari\n",
      "volunt\n",
      "organis\n",
      "longest\n",
      "serv\n",
      "prime\n",
      "minist\n",
      "outsid\n",
      "indian\n",
      "nation\n",
      "congress\n",
      "modi\n",
      "born\n",
      "rais\n",
      "vadnagar\n",
      "northeastern\n",
      "gujarat\n",
      "complet\n",
      "secondari\n",
      "educ\n",
      "introduc\n",
      "rss\n",
      "age\n",
      "eight\n",
      "account\n",
      "help\n",
      "father\n",
      "sell\n",
      "tea\n",
      "vadnagar\n",
      "railway\n",
      "station\n",
      "reliabl\n",
      "corrobor\n",
      "age\n",
      "marri\n",
      "jashodaben\n",
      "modi\n",
      "abandon\n",
      "soon\n",
      "publicli\n",
      "acknowledg\n",
      "four\n",
      "decad\n",
      "later\n",
      "legal\n",
      "requir\n",
      "modi\n",
      "becam\n",
      "full\n",
      "time\n",
      "worker\n",
      "rss\n",
      "gujarat\n",
      "rss\n",
      "assign\n",
      "bjp\n",
      "held\n",
      "sever\n",
      "posit\n",
      "within\n",
      "parti\n",
      "hierarchi\n",
      "rise\n",
      "rank\n",
      "gener\n",
      "secretari\n",
      "c\n"
     ]
    }
   ],
   "source": [
    "## stemming\n",
    "for i in corpus:\n",
    "    words = nltk.word_tokenize(i)\n",
    "    for word in words:\n",
    "        if word not in set(stopwords.words('english')):\n",
    "            print(stemmer.stem(word))\n"
   ]
  },
  {
   "cell_type": "code",
   "execution_count": 31,
   "id": "d80879e0",
   "metadata": {},
   "outputs": [
    {
     "name": "stdout",
     "output_type": "stream",
     "text": [
      "narendra\n",
      "damodardas\n",
      "modi\n",
      "gujarati\n",
      "n\n",
      "end\n",
      "mod\n",
      "modi\n",
      "born\n",
      "september\n",
      "b\n",
      "indian\n",
      "politician\n",
      "served\n",
      "th\n",
      "prime\n",
      "minister\n",
      "india\n",
      "since\n",
      "may\n",
      "modi\n",
      "chief\n",
      "minister\n",
      "gujarat\n",
      "member\n",
      "parliament\n",
      "mp\n",
      "varanasi\n",
      "member\n",
      "bharatiya\n",
      "janata\n",
      "party\n",
      "bjp\n",
      "rashtriya\n",
      "swayamsevak\n",
      "sangh\n",
      "r\n",
      "right\n",
      "wing\n",
      "hindu\n",
      "nationalist\n",
      "paramilitary\n",
      "volunteer\n",
      "organisation\n",
      "longest\n",
      "serving\n",
      "prime\n",
      "minister\n",
      "outside\n",
      "indian\n",
      "national\n",
      "congress\n",
      "modi\n",
      "born\n",
      "raised\n",
      "vadnagar\n",
      "northeastern\n",
      "gujarat\n",
      "completed\n",
      "secondary\n",
      "education\n",
      "introduced\n",
      "r\n",
      "age\n",
      "eight\n",
      "account\n",
      "helping\n",
      "father\n",
      "sell\n",
      "tea\n",
      "vadnagar\n",
      "railway\n",
      "station\n",
      "reliably\n",
      "corroborated\n",
      "age\n",
      "married\n",
      "jashodaben\n",
      "modi\n",
      "abandoned\n",
      "soon\n",
      "publicly\n",
      "acknowledging\n",
      "four\n",
      "decade\n",
      "later\n",
      "legally\n",
      "required\n",
      "modi\n",
      "became\n",
      "full\n",
      "time\n",
      "worker\n",
      "r\n",
      "gujarat\n",
      "r\n",
      "assigned\n",
      "bjp\n",
      "held\n",
      "several\n",
      "position\n",
      "within\n",
      "party\n",
      "hierarchy\n",
      "rising\n",
      "rank\n",
      "general\n",
      "secretary\n",
      "c\n"
     ]
    }
   ],
   "source": [
    "## Lemmatization\n",
    "for i in corpus:\n",
    "    words = nltk.word_tokenize(i)\n",
    "    for word in words:\n",
    "        if word not in set(stopwords.words('english')):\n",
    "            print(lemmatizer.lemmatize(word))\n",
    "        "
   ]
  },
  {
   "cell_type": "code",
   "execution_count": 32,
   "id": "03dad966",
   "metadata": {},
   "outputs": [],
   "source": [
    "from sklearn.feature_extraction.text import CountVectorizer\n",
    "cv = CountVectorizer()"
   ]
  },
  {
   "cell_type": "code",
   "execution_count": 34,
   "id": "7a1aca53",
   "metadata": {},
   "outputs": [],
   "source": [
    "X = cv.fit_transform(corpus)"
   ]
  },
  {
   "cell_type": "code",
   "execution_count": 35,
   "id": "ad1abc8b",
   "metadata": {},
   "outputs": [
    {
     "data": {
      "text/plain": [
       "{'narendra': 59,\n",
       " 'damodardas': 19,\n",
       " 'modi': 57,\n",
       " 'gujarati': 32,\n",
       " 'end': 24,\n",
       " 'mod': 56,\n",
       " 'born': 14,\n",
       " 'september': 88,\n",
       " 'is': 46,\n",
       " 'an': 5,\n",
       " 'indian': 44,\n",
       " 'politician': 71,\n",
       " 'who': 109,\n",
       " 'has': 33,\n",
       " 'served': 89,\n",
       " 'as': 7,\n",
       " 'the': 99,\n",
       " 'th': 98,\n",
       " 'prime': 73,\n",
       " 'minister': 55,\n",
       " 'of': 64,\n",
       " 'india': 43,\n",
       " 'since': 92,\n",
       " 'may': 53,\n",
       " 'was': 106,\n",
       " 'chief': 15,\n",
       " 'gujarat': 31,\n",
       " 'from': 28,\n",
       " 'to': 101,\n",
       " 'and': 6,\n",
       " 'member': 54,\n",
       " 'parliament': 69,\n",
       " 'mp': 58,\n",
       " 'for': 26,\n",
       " 'varanasi': 104,\n",
       " 'he': 34,\n",
       " 'bharatiya': 12,\n",
       " 'janata': 47,\n",
       " 'party': 70,\n",
       " 'bjp': 13,\n",
       " 'rashtriya': 78,\n",
       " 'swayamsevak': 96,\n",
       " 'sangh': 84,\n",
       " 'rss': 83,\n",
       " 'right': 81,\n",
       " 'wing': 111,\n",
       " 'hindu': 40,\n",
       " 'nationalist': 61,\n",
       " 'paramilitary': 68,\n",
       " 'volunteer': 105,\n",
       " 'organisation': 66,\n",
       " 'longest': 51,\n",
       " 'serving': 90,\n",
       " 'outside': 67,\n",
       " 'national': 60,\n",
       " 'congress': 17,\n",
       " 'raised': 76,\n",
       " 'in': 42,\n",
       " 'vadnagar': 103,\n",
       " 'northeastern': 62,\n",
       " 'where': 108,\n",
       " 'completed': 16,\n",
       " 'his': 41,\n",
       " 'secondary': 85,\n",
       " 'education': 22,\n",
       " 'introduced': 45,\n",
       " 'at': 9,\n",
       " 'age': 4,\n",
       " 'eight': 23,\n",
       " 'account': 1,\n",
       " 'helping': 36,\n",
       " 'father': 25,\n",
       " 'sell': 87,\n",
       " 'tea': 97,\n",
       " 'railway': 75,\n",
       " 'station': 95,\n",
       " 'not': 63,\n",
       " 'been': 11,\n",
       " 'reliably': 79,\n",
       " 'corroborated': 18,\n",
       " 'married': 52,\n",
       " 'jashodaben': 48,\n",
       " 'whom': 110,\n",
       " 'abandoned': 0,\n",
       " 'soon': 94,\n",
       " 'after': 3,\n",
       " 'only': 65,\n",
       " 'publicly': 74,\n",
       " 'acknowledging': 2,\n",
       " 'her': 37,\n",
       " 'four': 27,\n",
       " 'decades': 20,\n",
       " 'later': 49,\n",
       " 'when': 107,\n",
       " 'legally': 50,\n",
       " 'required': 80,\n",
       " 'do': 21,\n",
       " 'so': 93,\n",
       " 'became': 10,\n",
       " 'full': 29,\n",
       " 'time': 100,\n",
       " 'worker': 113,\n",
       " 'assigned': 8,\n",
       " 'him': 39,\n",
       " 'held': 35,\n",
       " 'several': 91,\n",
       " 'positions': 72,\n",
       " 'within': 112,\n",
       " 'hierarchy': 38,\n",
       " 'until': 102,\n",
       " 'rising': 82,\n",
       " 'rank': 77,\n",
       " 'general': 30,\n",
       " 'secretary': 86}"
      ]
     },
     "execution_count": 35,
     "metadata": {},
     "output_type": "execute_result"
    }
   ],
   "source": [
    "cv.vocabulary_"
   ]
  },
  {
   "cell_type": "code",
   "execution_count": 36,
   "id": "d350c164",
   "metadata": {},
   "outputs": [
    {
     "data": {
      "text/plain": [
       "' narendra damodardas modi  gujarati    n  end   d mod   d s  modi      born    september       b  is an indian politician who has served as the   th prime minister of india since may      '"
      ]
     },
     "execution_count": 36,
     "metadata": {},
     "output_type": "execute_result"
    }
   ],
   "source": [
    "corpus[0]"
   ]
  },
  {
   "cell_type": "code",
   "execution_count": 37,
   "id": "49536787",
   "metadata": {},
   "outputs": [
    {
     "data": {
      "text/plain": [
       "array([[0, 0, 0, 0, 0, 1, 0, 1, 0, 0, 0, 0, 0, 0, 1, 0, 0, 0, 0, 1, 0, 0,\n",
       "        0, 0, 1, 0, 0, 0, 0, 0, 0, 0, 1, 1, 0, 0, 0, 0, 0, 0, 0, 0, 0, 1,\n",
       "        1, 0, 1, 0, 0, 0, 0, 0, 0, 1, 0, 1, 1, 2, 0, 1, 0, 0, 0, 0, 1, 0,\n",
       "        0, 0, 0, 0, 0, 1, 0, 1, 0, 0, 0, 0, 0, 0, 0, 0, 0, 0, 0, 0, 0, 0,\n",
       "        1, 1, 0, 0, 1, 0, 0, 0, 0, 0, 1, 1, 0, 0, 0, 0, 0, 0, 0, 0, 0, 1,\n",
       "        0, 0, 0, 0]], dtype=int64)"
      ]
     },
     "execution_count": 37,
     "metadata": {},
     "output_type": "execute_result"
    }
   ],
   "source": [
    "X[0].toarray()"
   ]
  },
  {
   "cell_type": "code",
   "execution_count": 43,
   "id": "814cab94",
   "metadata": {},
   "outputs": [],
   "source": [
    "## binary\n",
    "cv = CountVectorizer(binary=True)"
   ]
  },
  {
   "cell_type": "code",
   "execution_count": 40,
   "id": "6bf77ee4",
   "metadata": {},
   "outputs": [],
   "source": [
    "X = cv.fit_transform(corpus)"
   ]
  },
  {
   "cell_type": "code",
   "execution_count": 42,
   "id": "69b0fdd0",
   "metadata": {},
   "outputs": [
    {
     "data": {
      "text/plain": [
       "{'narendra': 59,\n",
       " 'damodardas': 19,\n",
       " 'modi': 57,\n",
       " 'gujarati': 32,\n",
       " 'end': 24,\n",
       " 'mod': 56,\n",
       " 'born': 14,\n",
       " 'september': 88,\n",
       " 'is': 46,\n",
       " 'an': 5,\n",
       " 'indian': 44,\n",
       " 'politician': 71,\n",
       " 'who': 109,\n",
       " 'has': 33,\n",
       " 'served': 89,\n",
       " 'as': 7,\n",
       " 'the': 99,\n",
       " 'th': 98,\n",
       " 'prime': 73,\n",
       " 'minister': 55,\n",
       " 'of': 64,\n",
       " 'india': 43,\n",
       " 'since': 92,\n",
       " 'may': 53,\n",
       " 'was': 106,\n",
       " 'chief': 15,\n",
       " 'gujarat': 31,\n",
       " 'from': 28,\n",
       " 'to': 101,\n",
       " 'and': 6,\n",
       " 'member': 54,\n",
       " 'parliament': 69,\n",
       " 'mp': 58,\n",
       " 'for': 26,\n",
       " 'varanasi': 104,\n",
       " 'he': 34,\n",
       " 'bharatiya': 12,\n",
       " 'janata': 47,\n",
       " 'party': 70,\n",
       " 'bjp': 13,\n",
       " 'rashtriya': 78,\n",
       " 'swayamsevak': 96,\n",
       " 'sangh': 84,\n",
       " 'rss': 83,\n",
       " 'right': 81,\n",
       " 'wing': 111,\n",
       " 'hindu': 40,\n",
       " 'nationalist': 61,\n",
       " 'paramilitary': 68,\n",
       " 'volunteer': 105,\n",
       " 'organisation': 66,\n",
       " 'longest': 51,\n",
       " 'serving': 90,\n",
       " 'outside': 67,\n",
       " 'national': 60,\n",
       " 'congress': 17,\n",
       " 'raised': 76,\n",
       " 'in': 42,\n",
       " 'vadnagar': 103,\n",
       " 'northeastern': 62,\n",
       " 'where': 108,\n",
       " 'completed': 16,\n",
       " 'his': 41,\n",
       " 'secondary': 85,\n",
       " 'education': 22,\n",
       " 'introduced': 45,\n",
       " 'at': 9,\n",
       " 'age': 4,\n",
       " 'eight': 23,\n",
       " 'account': 1,\n",
       " 'helping': 36,\n",
       " 'father': 25,\n",
       " 'sell': 87,\n",
       " 'tea': 97,\n",
       " 'railway': 75,\n",
       " 'station': 95,\n",
       " 'not': 63,\n",
       " 'been': 11,\n",
       " 'reliably': 79,\n",
       " 'corroborated': 18,\n",
       " 'married': 52,\n",
       " 'jashodaben': 48,\n",
       " 'whom': 110,\n",
       " 'abandoned': 0,\n",
       " 'soon': 94,\n",
       " 'after': 3,\n",
       " 'only': 65,\n",
       " 'publicly': 74,\n",
       " 'acknowledging': 2,\n",
       " 'her': 37,\n",
       " 'four': 27,\n",
       " 'decades': 20,\n",
       " 'later': 49,\n",
       " 'when': 107,\n",
       " 'legally': 50,\n",
       " 'required': 80,\n",
       " 'do': 21,\n",
       " 'so': 93,\n",
       " 'became': 10,\n",
       " 'full': 29,\n",
       " 'time': 100,\n",
       " 'worker': 113,\n",
       " 'assigned': 8,\n",
       " 'him': 39,\n",
       " 'held': 35,\n",
       " 'several': 91,\n",
       " 'positions': 72,\n",
       " 'within': 112,\n",
       " 'hierarchy': 38,\n",
       " 'until': 102,\n",
       " 'rising': 82,\n",
       " 'rank': 77,\n",
       " 'general': 30,\n",
       " 'secretary': 86}"
      ]
     },
     "execution_count": 42,
     "metadata": {},
     "output_type": "execute_result"
    }
   ],
   "source": [
    "cv.vocabulary_"
   ]
  },
  {
   "cell_type": "code",
   "execution_count": 44,
   "id": "1f7de117",
   "metadata": {},
   "outputs": [
    {
     "data": {
      "text/plain": [
       "' narendra damodardas modi  gujarati    n  end   d mod   d s  modi      born    september       b  is an indian politician who has served as the   th prime minister of india since may      '"
      ]
     },
     "execution_count": 44,
     "metadata": {},
     "output_type": "execute_result"
    }
   ],
   "source": [
    "corpus[0]"
   ]
  },
  {
   "cell_type": "code",
   "execution_count": 45,
   "id": "44c041f5",
   "metadata": {},
   "outputs": [
    {
     "data": {
      "text/plain": [
       "array([[0, 0, 0, 0, 0, 1, 0, 1, 0, 0, 0, 0, 0, 0, 1, 0, 0, 0, 0, 1, 0, 0,\n",
       "        0, 0, 1, 0, 0, 0, 0, 0, 0, 0, 1, 1, 0, 0, 0, 0, 0, 0, 0, 0, 0, 1,\n",
       "        1, 0, 1, 0, 0, 0, 0, 0, 0, 1, 0, 1, 1, 1, 0, 1, 0, 0, 0, 0, 1, 0,\n",
       "        0, 0, 0, 0, 0, 1, 0, 1, 0, 0, 0, 0, 0, 0, 0, 0, 0, 0, 0, 0, 0, 0,\n",
       "        1, 1, 0, 0, 1, 0, 0, 0, 0, 0, 1, 1, 0, 0, 0, 0, 0, 0, 0, 0, 0, 1,\n",
       "        0, 0, 0, 0]], dtype=int64)"
      ]
     },
     "execution_count": 45,
     "metadata": {},
     "output_type": "execute_result"
    }
   ],
   "source": [
    "X[0].toarray()"
   ]
  },
  {
   "cell_type": "code",
   "execution_count": 48,
   "id": "a41b03db",
   "metadata": {},
   "outputs": [],
   "source": [
    "## Apply Stopwords. Lemmatize\n",
    "import re\n",
    "corpus =[]\n",
    "for i in range(len(sentences)):\n",
    "    review = re.sub('[^a-zA-Z]', ' ',sentences[i])\n",
    "    review = review.lower()\n",
    "    review = review.split()\n",
    "    review = [lemmatizer.lemmatize(word) for word in review if not word in set(stopwords.words('english'))]\n",
    "    review = ' '.join(review)\n",
    "    corpus.append(review)\n",
    "    \n",
    "        "
   ]
  },
  {
   "cell_type": "code",
   "execution_count": 53,
   "id": "0c5ad38d",
   "metadata": {},
   "outputs": [
    {
     "data": {
      "text/plain": [
       "{'narendra damodardas': 97,\n",
       " 'damodardas modi': 27,\n",
       " 'modi gujarati': 94,\n",
       " 'gujarati end': 44,\n",
       " 'end mod': 31,\n",
       " 'mod modi': 83,\n",
       " 'modi born': 89,\n",
       " 'born september': 21,\n",
       " 'september indian': 141,\n",
       " 'indian politician': 58,\n",
       " 'politician served': 114,\n",
       " 'served th': 143,\n",
       " 'th prime': 158,\n",
       " 'prime minister': 118,\n",
       " 'minister india': 79,\n",
       " 'india since': 54,\n",
       " 'since may': 149,\n",
       " 'narendra damodardas modi': 98,\n",
       " 'damodardas modi gujarati': 28,\n",
       " 'modi gujarati end': 95,\n",
       " 'gujarati end mod': 45,\n",
       " 'end mod modi': 32,\n",
       " 'mod modi born': 84,\n",
       " 'modi born september': 91,\n",
       " 'born september indian': 22,\n",
       " 'september indian politician': 142,\n",
       " 'indian politician served': 59,\n",
       " 'politician served th': 115,\n",
       " 'served th prime': 144,\n",
       " 'th prime minister': 159,\n",
       " 'prime minister india': 119,\n",
       " 'minister india since': 80,\n",
       " 'india since may': 55,\n",
       " 'modi chief': 92,\n",
       " 'chief minister': 23,\n",
       " 'minister gujarat': 77,\n",
       " 'gujarat member': 42,\n",
       " 'member parliament': 75,\n",
       " 'parliament mp': 108,\n",
       " 'mp varanasi': 96,\n",
       " 'modi chief minister': 93,\n",
       " 'chief minister gujarat': 24,\n",
       " 'minister gujarat member': 78,\n",
       " 'gujarat member parliament': 43,\n",
       " 'member parliament mp': 76,\n",
       " 'parliament mp varanasi': 109,\n",
       " 'member bharatiya': 73,\n",
       " 'bharatiya janata': 13,\n",
       " 'janata party': 62,\n",
       " 'party bjp': 110,\n",
       " 'bjp rashtriya': 17,\n",
       " 'rashtriya swayamsevak': 129,\n",
       " 'swayamsevak sangh': 154,\n",
       " 'sangh right': 136,\n",
       " 'right wing': 132,\n",
       " 'wing hindu': 167,\n",
       " 'hindu nationalist': 52,\n",
       " 'nationalist paramilitary': 100,\n",
       " 'paramilitary volunteer': 106,\n",
       " 'volunteer organisation': 166,\n",
       " 'member bharatiya janata': 74,\n",
       " 'bharatiya janata party': 14,\n",
       " 'janata party bjp': 63,\n",
       " 'party bjp rashtriya': 111,\n",
       " 'bjp rashtriya swayamsevak': 18,\n",
       " 'rashtriya swayamsevak sangh': 130,\n",
       " 'swayamsevak sangh right': 155,\n",
       " 'sangh right wing': 137,\n",
       " 'right wing hindu': 133,\n",
       " 'wing hindu nationalist': 168,\n",
       " 'hindu nationalist paramilitary': 53,\n",
       " 'nationalist paramilitary volunteer': 101,\n",
       " 'paramilitary volunteer organisation': 107,\n",
       " 'longest serving': 69,\n",
       " 'serving prime': 145,\n",
       " 'minister outside': 81,\n",
       " 'outside indian': 104,\n",
       " 'indian national': 56,\n",
       " 'national congress': 99,\n",
       " 'longest serving prime': 70,\n",
       " 'serving prime minister': 146,\n",
       " 'prime minister outside': 120,\n",
       " 'minister outside indian': 82,\n",
       " 'outside indian national': 105,\n",
       " 'indian national congress': 57,\n",
       " 'born raised': 19,\n",
       " 'raised vadnagar': 125,\n",
       " 'vadnagar northeastern': 162,\n",
       " 'northeastern gujarat': 102,\n",
       " 'gujarat completed': 40,\n",
       " 'completed secondary': 25,\n",
       " 'secondary education': 138,\n",
       " 'modi born raised': 90,\n",
       " 'born raised vadnagar': 20,\n",
       " 'raised vadnagar northeastern': 126,\n",
       " 'vadnagar northeastern gujarat': 163,\n",
       " 'northeastern gujarat completed': 103,\n",
       " 'gujarat completed secondary': 41,\n",
       " 'completed secondary education': 26,\n",
       " 'introduced age': 60,\n",
       " 'age eight': 6,\n",
       " 'introduced age eight': 61,\n",
       " 'account helping': 2,\n",
       " 'helping father': 48,\n",
       " 'father sell': 33,\n",
       " 'sell tea': 139,\n",
       " 'tea vadnagar': 156,\n",
       " 'vadnagar railway': 164,\n",
       " 'railway station': 123,\n",
       " 'station reliably': 152,\n",
       " 'reliably corroborated': 131,\n",
       " 'account helping father': 3,\n",
       " 'helping father sell': 49,\n",
       " 'father sell tea': 34,\n",
       " 'sell tea vadnagar': 140,\n",
       " 'tea vadnagar railway': 157,\n",
       " 'vadnagar railway station': 165,\n",
       " 'railway station reliably': 124,\n",
       " 'station reliably corroborated': 153,\n",
       " 'age married': 7,\n",
       " 'married jashodaben': 71,\n",
       " 'jashodaben modi': 64,\n",
       " 'modi abandoned': 85,\n",
       " 'abandoned soon': 0,\n",
       " 'soon publicly': 150,\n",
       " 'publicly acknowledging': 121,\n",
       " 'acknowledging four': 4,\n",
       " 'four decade': 35,\n",
       " 'decade later': 29,\n",
       " 'later legally': 66,\n",
       " 'legally required': 68,\n",
       " 'age married jashodaben': 8,\n",
       " 'married jashodaben modi': 72,\n",
       " 'jashodaben modi abandoned': 65,\n",
       " 'modi abandoned soon': 86,\n",
       " 'abandoned soon publicly': 1,\n",
       " 'soon publicly acknowledging': 151,\n",
       " 'publicly acknowledging four': 122,\n",
       " 'acknowledging four decade': 5,\n",
       " 'four decade later': 36,\n",
       " 'decade later legally': 30,\n",
       " 'later legally required': 67,\n",
       " 'modi became': 87,\n",
       " 'became full': 11,\n",
       " 'full time': 37,\n",
       " 'time worker': 160,\n",
       " 'worker gujarat': 171,\n",
       " 'modi became full': 88,\n",
       " 'became full time': 12,\n",
       " 'full time worker': 38,\n",
       " 'time worker gujarat': 161,\n",
       " 'assigned bjp': 9,\n",
       " 'bjp held': 15,\n",
       " 'held several': 46,\n",
       " 'several position': 147,\n",
       " 'position within': 116,\n",
       " 'within party': 169,\n",
       " 'party hierarchy': 112,\n",
       " 'hierarchy rising': 50,\n",
       " 'rising rank': 134,\n",
       " 'rank general': 127,\n",
       " 'general secretary': 39,\n",
       " 'assigned bjp held': 10,\n",
       " 'bjp held several': 16,\n",
       " 'held several position': 47,\n",
       " 'several position within': 148,\n",
       " 'position within party': 117,\n",
       " 'within party hierarchy': 170,\n",
       " 'party hierarchy rising': 113,\n",
       " 'hierarchy rising rank': 51,\n",
       " 'rising rank general': 135,\n",
       " 'rank general secretary': 128}"
      ]
     },
     "execution_count": 53,
     "metadata": {},
     "output_type": "execute_result"
    }
   ],
   "source": [
    "## bag of words (BOW)\n",
    "cv = CountVectorizer(binary=True,ngram_range=(2,3))  ## ngram = bigra, trigram...\n",
    "X = cv.fit_transform(corpus)\n",
    "cv.vocabulary_"
   ]
  },
  {
   "cell_type": "code",
   "execution_count": 54,
   "id": "07709849",
   "metadata": {},
   "outputs": [
    {
     "data": {
      "text/plain": [
       "'narendra damodardas modi gujarati n end mod modi born september b indian politician served th prime minister india since may'"
      ]
     },
     "execution_count": 54,
     "metadata": {},
     "output_type": "execute_result"
    }
   ],
   "source": [
    "corpus[0]"
   ]
  },
  {
   "cell_type": "code",
   "execution_count": 55,
   "id": "491cacec",
   "metadata": {},
   "outputs": [
    {
     "data": {
      "text/plain": [
       "array([[0, 0, 0, 0, 0, 0, 0, 0, 0, 0, 0, 0, 0, 0, 0, 0, 0, 0, 0, 0, 0, 1,\n",
       "        1, 0, 0, 0, 0, 1, 1, 0, 0, 1, 1, 0, 0, 0, 0, 0, 0, 0, 0, 0, 0, 0,\n",
       "        1, 1, 0, 0, 0, 0, 0, 0, 0, 0, 1, 1, 0, 0, 1, 1, 0, 0, 0, 0, 0, 0,\n",
       "        0, 0, 0, 0, 0, 0, 0, 0, 0, 0, 0, 0, 0, 1, 1, 0, 0, 1, 1, 0, 0, 0,\n",
       "        0, 1, 0, 1, 0, 0, 1, 1, 0, 1, 1, 0, 0, 0, 0, 0, 0, 0, 0, 0, 0, 0,\n",
       "        0, 0, 0, 0, 1, 1, 0, 0, 1, 1, 0, 0, 0, 0, 0, 0, 0, 0, 0, 0, 0, 0,\n",
       "        0, 0, 0, 0, 0, 0, 0, 0, 0, 1, 1, 1, 1, 0, 0, 0, 0, 1, 0, 0, 0, 0,\n",
       "        0, 0, 0, 0, 1, 1, 0, 0, 0, 0, 0, 0, 0, 0, 0, 0, 0, 0]],\n",
       "      dtype=int64)"
      ]
     },
     "execution_count": 55,
     "metadata": {},
     "output_type": "execute_result"
    }
   ],
   "source": [
    "X[0].toarray()"
   ]
  },
  {
   "cell_type": "code",
   "execution_count": 77,
   "id": "9ffc1b6a",
   "metadata": {},
   "outputs": [],
   "source": [
    "## TF-IDF\n",
    "\n",
    "from sklearn.feature_extraction.text import TfidfVectorizer\n",
    "cv = TfidfVectorizer(ngram_range=(1,1),max_features=10)\n",
    "X = cv.fit_transform(corpus)"
   ]
  },
  {
   "cell_type": "code",
   "execution_count": 78,
   "id": "a3ae226d",
   "metadata": {},
   "outputs": [
    {
     "data": {
      "text/plain": [
       "'narendra damodardas modi gujarati n end mod modi born september b indian politician served th prime minister india since may'"
      ]
     },
     "execution_count": 78,
     "metadata": {},
     "output_type": "execute_result"
    }
   ],
   "source": [
    "corpus[0]"
   ]
  },
  {
   "cell_type": "code",
   "execution_count": 79,
   "id": "025ec88a",
   "metadata": {},
   "outputs": [
    {
     "data": {
      "text/plain": [
       "array([[0.        , 0.41568805, 0.        , 0.41568805, 0.        ,\n",
       "        0.36557437, 0.58988619, 0.        , 0.41568805, 0.        ]])"
      ]
     },
     "execution_count": 79,
     "metadata": {},
     "output_type": "execute_result"
    }
   ],
   "source": [
    "X[0].toarray()"
   ]
  },
  {
   "cell_type": "code",
   "execution_count": null,
   "id": "ddb3f9a7",
   "metadata": {},
   "outputs": [],
   "source": []
  }
 ],
 "metadata": {
  "kernelspec": {
   "display_name": "Python 3",
   "language": "python",
   "name": "python3"
  },
  "language_info": {
   "codemirror_mode": {
    "name": "ipython",
    "version": 3
   },
   "file_extension": ".py",
   "mimetype": "text/x-python",
   "name": "python",
   "nbconvert_exporter": "python",
   "pygments_lexer": "ipython3",
   "version": "3.8.8"
  }
 },
 "nbformat": 4,
 "nbformat_minor": 5
}
