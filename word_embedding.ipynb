{
  "nbformat": 4,
  "nbformat_minor": 0,
  "metadata": {
    "colab": {
      "provenance": []
    },
    "kernelspec": {
      "name": "python3",
      "display_name": "Python 3"
    },
    "language_info": {
      "name": "python"
    }
  },
  "cells": [
    {
      "cell_type": "code",
      "execution_count": 3,
      "metadata": {
        "colab": {
          "base_uri": "https://localhost:8080/"
        },
        "id": "YS2JzZl4ovyq",
        "outputId": "1e334a8f-01cc-4e21-e46b-b88a3ec055b8"
      },
      "outputs": [
        {
          "output_type": "stream",
          "name": "stdout",
          "text": [
            "Requirement already satisfied: tensorflow in /usr/local/lib/python3.10/dist-packages (2.15.0)\n",
            "Requirement already satisfied: absl-py>=1.0.0 in /usr/local/lib/python3.10/dist-packages (from tensorflow) (1.4.0)\n",
            "Requirement already satisfied: astunparse>=1.6.0 in /usr/local/lib/python3.10/dist-packages (from tensorflow) (1.6.3)\n",
            "Requirement already satisfied: flatbuffers>=23.5.26 in /usr/local/lib/python3.10/dist-packages (from tensorflow) (23.5.26)\n",
            "Requirement already satisfied: gast!=0.5.0,!=0.5.1,!=0.5.2,>=0.2.1 in /usr/local/lib/python3.10/dist-packages (from tensorflow) (0.5.4)\n",
            "Requirement already satisfied: google-pasta>=0.1.1 in /usr/local/lib/python3.10/dist-packages (from tensorflow) (0.2.0)\n",
            "Requirement already satisfied: h5py>=2.9.0 in /usr/local/lib/python3.10/dist-packages (from tensorflow) (3.9.0)\n",
            "Requirement already satisfied: libclang>=13.0.0 in /usr/local/lib/python3.10/dist-packages (from tensorflow) (16.0.6)\n",
            "Requirement already satisfied: ml-dtypes~=0.2.0 in /usr/local/lib/python3.10/dist-packages (from tensorflow) (0.2.0)\n",
            "Requirement already satisfied: numpy<2.0.0,>=1.23.5 in /usr/local/lib/python3.10/dist-packages (from tensorflow) (1.25.2)\n",
            "Requirement already satisfied: opt-einsum>=2.3.2 in /usr/local/lib/python3.10/dist-packages (from tensorflow) (3.3.0)\n",
            "Requirement already satisfied: packaging in /usr/local/lib/python3.10/dist-packages (from tensorflow) (23.2)\n",
            "Requirement already satisfied: protobuf!=4.21.0,!=4.21.1,!=4.21.2,!=4.21.3,!=4.21.4,!=4.21.5,<5.0.0dev,>=3.20.3 in /usr/local/lib/python3.10/dist-packages (from tensorflow) (3.20.3)\n",
            "Requirement already satisfied: setuptools in /usr/local/lib/python3.10/dist-packages (from tensorflow) (67.7.2)\n",
            "Requirement already satisfied: six>=1.12.0 in /usr/local/lib/python3.10/dist-packages (from tensorflow) (1.16.0)\n",
            "Requirement already satisfied: termcolor>=1.1.0 in /usr/local/lib/python3.10/dist-packages (from tensorflow) (2.4.0)\n",
            "Requirement already satisfied: typing-extensions>=3.6.6 in /usr/local/lib/python3.10/dist-packages (from tensorflow) (4.9.0)\n",
            "Requirement already satisfied: wrapt<1.15,>=1.11.0 in /usr/local/lib/python3.10/dist-packages (from tensorflow) (1.14.1)\n",
            "Requirement already satisfied: tensorflow-io-gcs-filesystem>=0.23.1 in /usr/local/lib/python3.10/dist-packages (from tensorflow) (0.36.0)\n",
            "Requirement already satisfied: grpcio<2.0,>=1.24.3 in /usr/local/lib/python3.10/dist-packages (from tensorflow) (1.60.1)\n",
            "Requirement already satisfied: tensorboard<2.16,>=2.15 in /usr/local/lib/python3.10/dist-packages (from tensorflow) (2.15.2)\n",
            "Requirement already satisfied: tensorflow-estimator<2.16,>=2.15.0 in /usr/local/lib/python3.10/dist-packages (from tensorflow) (2.15.0)\n",
            "Requirement already satisfied: keras<2.16,>=2.15.0 in /usr/local/lib/python3.10/dist-packages (from tensorflow) (2.15.0)\n",
            "Requirement already satisfied: wheel<1.0,>=0.23.0 in /usr/local/lib/python3.10/dist-packages (from astunparse>=1.6.0->tensorflow) (0.42.0)\n",
            "Requirement already satisfied: google-auth<3,>=1.6.3 in /usr/local/lib/python3.10/dist-packages (from tensorboard<2.16,>=2.15->tensorflow) (2.27.0)\n",
            "Requirement already satisfied: google-auth-oauthlib<2,>=0.5 in /usr/local/lib/python3.10/dist-packages (from tensorboard<2.16,>=2.15->tensorflow) (1.2.0)\n",
            "Requirement already satisfied: markdown>=2.6.8 in /usr/local/lib/python3.10/dist-packages (from tensorboard<2.16,>=2.15->tensorflow) (3.5.2)\n",
            "Requirement already satisfied: requests<3,>=2.21.0 in /usr/local/lib/python3.10/dist-packages (from tensorboard<2.16,>=2.15->tensorflow) (2.31.0)\n",
            "Requirement already satisfied: tensorboard-data-server<0.8.0,>=0.7.0 in /usr/local/lib/python3.10/dist-packages (from tensorboard<2.16,>=2.15->tensorflow) (0.7.2)\n",
            "Requirement already satisfied: werkzeug>=1.0.1 in /usr/local/lib/python3.10/dist-packages (from tensorboard<2.16,>=2.15->tensorflow) (3.0.1)\n",
            "Requirement already satisfied: cachetools<6.0,>=2.0.0 in /usr/local/lib/python3.10/dist-packages (from google-auth<3,>=1.6.3->tensorboard<2.16,>=2.15->tensorflow) (5.3.2)\n",
            "Requirement already satisfied: pyasn1-modules>=0.2.1 in /usr/local/lib/python3.10/dist-packages (from google-auth<3,>=1.6.3->tensorboard<2.16,>=2.15->tensorflow) (0.3.0)\n",
            "Requirement already satisfied: rsa<5,>=3.1.4 in /usr/local/lib/python3.10/dist-packages (from google-auth<3,>=1.6.3->tensorboard<2.16,>=2.15->tensorflow) (4.9)\n",
            "Requirement already satisfied: requests-oauthlib>=0.7.0 in /usr/local/lib/python3.10/dist-packages (from google-auth-oauthlib<2,>=0.5->tensorboard<2.16,>=2.15->tensorflow) (1.3.1)\n",
            "Requirement already satisfied: charset-normalizer<4,>=2 in /usr/local/lib/python3.10/dist-packages (from requests<3,>=2.21.0->tensorboard<2.16,>=2.15->tensorflow) (3.3.2)\n",
            "Requirement already satisfied: idna<4,>=2.5 in /usr/local/lib/python3.10/dist-packages (from requests<3,>=2.21.0->tensorboard<2.16,>=2.15->tensorflow) (3.6)\n",
            "Requirement already satisfied: urllib3<3,>=1.21.1 in /usr/local/lib/python3.10/dist-packages (from requests<3,>=2.21.0->tensorboard<2.16,>=2.15->tensorflow) (2.0.7)\n",
            "Requirement already satisfied: certifi>=2017.4.17 in /usr/local/lib/python3.10/dist-packages (from requests<3,>=2.21.0->tensorboard<2.16,>=2.15->tensorflow) (2024.2.2)\n",
            "Requirement already satisfied: MarkupSafe>=2.1.1 in /usr/local/lib/python3.10/dist-packages (from werkzeug>=1.0.1->tensorboard<2.16,>=2.15->tensorflow) (2.1.5)\n",
            "Requirement already satisfied: pyasn1<0.6.0,>=0.4.6 in /usr/local/lib/python3.10/dist-packages (from pyasn1-modules>=0.2.1->google-auth<3,>=1.6.3->tensorboard<2.16,>=2.15->tensorflow) (0.5.1)\n",
            "Requirement already satisfied: oauthlib>=3.0.0 in /usr/local/lib/python3.10/dist-packages (from requests-oauthlib>=0.7.0->google-auth-oauthlib<2,>=0.5->tensorboard<2.16,>=2.15->tensorflow) (3.2.2)\n"
          ]
        }
      ],
      "source": [
        "### Libraries used Tensorflow>2.0 and keras\n",
        "!pip install tensorflow"
      ]
    },
    {
      "cell_type": "code",
      "source": [
        "import tensorflow as tf\n",
        "print(tf.__version__)"
      ],
      "metadata": {
        "colab": {
          "base_uri": "https://localhost:8080/"
        },
        "id": "PQbzmsY_q16t",
        "outputId": "914d692a-222a-46c4-9c11-b557de49d49e"
      },
      "execution_count": 2,
      "outputs": [
        {
          "output_type": "stream",
          "name": "stdout",
          "text": [
            "2.15.0\n"
          ]
        }
      ]
    },
    {
      "cell_type": "code",
      "source": [
        "### tensorflow >2.0\n",
        "from tensorflow.keras.preprocessing.text import one_hot"
      ],
      "metadata": {
        "id": "renRFc56poE8"
      },
      "execution_count": 3,
      "outputs": []
    },
    {
      "cell_type": "code",
      "source": [
        "sent = ['The glass of milk',\n",
        "        'The glass of juice',\n",
        "        'The cup of tea',\n",
        "        'I am a good boy',\n",
        "        'I am a good developer',\n",
        "        'Understanding the meaning of words',\n",
        "        'your videos are good']"
      ],
      "metadata": {
        "id": "RWBOS_dvp18p"
      },
      "execution_count": 4,
      "outputs": []
    },
    {
      "cell_type": "code",
      "source": [
        "sent"
      ],
      "metadata": {
        "colab": {
          "base_uri": "https://localhost:8080/"
        },
        "id": "-baTWPHfrCjW",
        "outputId": "c73ce1b0-d635-496e-fa9f-bf774d5ad964"
      },
      "execution_count": 5,
      "outputs": [
        {
          "output_type": "execute_result",
          "data": {
            "text/plain": [
              "['The glass of milk',\n",
              " 'The glass of juice',\n",
              " 'The cup of tea',\n",
              " 'I am a good boy',\n",
              " 'I am a good developer',\n",
              " 'Understanding the meaning of words',\n",
              " 'your videos are good']"
            ]
          },
          "metadata": {},
          "execution_count": 5
        }
      ]
    },
    {
      "cell_type": "code",
      "source": [
        "### Vocabulary size\n",
        "voc_size = 10000"
      ],
      "metadata": {
        "id": "Zy56Kdb4rEq1"
      },
      "execution_count": 6,
      "outputs": []
    },
    {
      "cell_type": "code",
      "source": [
        "## one hot representation\n",
        "onehot_repr = [one_hot(words,voc_size) for words in sent]\n",
        "print(onehot_repr)"
      ],
      "metadata": {
        "colab": {
          "base_uri": "https://localhost:8080/"
        },
        "id": "FTNEBPM8rULD",
        "outputId": "be750f16-bcdb-40c6-9d66-6cb9db51cac1"
      },
      "execution_count": 8,
      "outputs": [
        {
          "output_type": "stream",
          "name": "stdout",
          "text": [
            "[[6026, 3678, 2556, 5068], [6026, 3678, 2556, 8945], [6026, 8665, 2556, 3046], [3950, 5050, 8635, 4390, 7993], [3950, 5050, 8635, 4390, 8559], [4759, 6026, 3730, 2556, 1450], [5062, 4193, 385, 4390]]\n"
          ]
        }
      ]
    },
    {
      "cell_type": "code",
      "source": [
        "## Word Embedding Representation\n",
        "\n",
        "from tensorflow.keras.layers import Embedding\n",
        "from tensorflow.keras.preprocessing.sequence import pad_sequences\n",
        "from tensorflow.keras.models import Sequential"
      ],
      "metadata": {
        "id": "Dth8DZK1zMzw"
      },
      "execution_count": 9,
      "outputs": []
    },
    {
      "cell_type": "code",
      "source": [
        "import numpy as np"
      ],
      "metadata": {
        "id": "s1SIXuai0S0P"
      },
      "execution_count": 10,
      "outputs": []
    },
    {
      "cell_type": "code",
      "source": [
        "# PRE PADDING\n",
        "sent_length = 8\n",
        "embedded_docs = pad_sequences(onehot_repr, padding='pre',maxlen=sent_length)\n",
        "print(embedded_docs)"
      ],
      "metadata": {
        "colab": {
          "base_uri": "https://localhost:8080/"
        },
        "id": "rF0H2YGg0euJ",
        "outputId": "cfd20644-42e9-4ee0-b729-e1038b5eda07"
      },
      "execution_count": 11,
      "outputs": [
        {
          "output_type": "stream",
          "name": "stdout",
          "text": [
            "[[   0    0    0    0 6026 3678 2556 5068]\n",
            " [   0    0    0    0 6026 3678 2556 8945]\n",
            " [   0    0    0    0 6026 8665 2556 3046]\n",
            " [   0    0    0 3950 5050 8635 4390 7993]\n",
            " [   0    0    0 3950 5050 8635 4390 8559]\n",
            " [   0    0    0 4759 6026 3730 2556 1450]\n",
            " [   0    0    0    0 5062 4193  385 4390]]\n"
          ]
        }
      ]
    },
    {
      "cell_type": "code",
      "source": [
        "# POST PADDING\n",
        "\n",
        "# sent_length = 8\n",
        "# embedded_docs = pad_sequences(onehot_repr, padding='post',maxlen=sent_length)\n",
        "# print(embedded_docs)"
      ],
      "metadata": {
        "colab": {
          "base_uri": "https://localhost:8080/"
        },
        "id": "y95N6crE1Eh9",
        "outputId": "62a45955-4a11-4781-d88b-614b10edb599"
      },
      "execution_count": 27,
      "outputs": [
        {
          "output_type": "stream",
          "name": "stdout",
          "text": [
            "[[6815 8342 4474 5037    0    0    0    0]\n",
            " [6815 8342 4474 5476    0    0    0    0]\n",
            " [6815 9500 4474 2970    0    0    0    0]\n",
            " [4503 5515 3337 7243 1624    0    0    0]\n",
            " [4503 5515 3337 7243 9423    0    0    0]\n",
            " [9120 6815 3273 4474 9941    0    0    0]\n",
            " [2116 1518 3695 7243    0    0    0    0]]\n"
          ]
        }
      ]
    },
    {
      "cell_type": "code",
      "source": [
        "## if input size is not fixed we make sure that we need fix the same size as input size using prepadding or post padding"
      ],
      "metadata": {
        "id": "eC6uXGPG1P7A"
      },
      "execution_count": 12,
      "outputs": []
    },
    {
      "cell_type": "code",
      "source": [
        "# feature dimention\n",
        "dim=10"
      ],
      "metadata": {
        "id": "42IIb0MB1x9Q"
      },
      "execution_count": 13,
      "outputs": []
    },
    {
      "cell_type": "code",
      "source": [
        "# we need to convert each and every value into vector\n",
        "# this embedding layer will work similar like word2vec only"
      ],
      "metadata": {
        "id": "IEfJO4sP2bef"
      },
      "execution_count": 14,
      "outputs": []
    },
    {
      "cell_type": "code",
      "source": [
        "model=Sequential()\n",
        "model.add(Embedding(voc_size,10,input_length=sent_length))\n",
        "model.compile('adam','mse')"
      ],
      "metadata": {
        "id": "3-c-5-gM1ztv"
      },
      "execution_count": 15,
      "outputs": []
    },
    {
      "cell_type": "code",
      "source": [
        "model.summary()"
      ],
      "metadata": {
        "colab": {
          "base_uri": "https://localhost:8080/"
        },
        "id": "6a5zw50017Za",
        "outputId": "30bd72fb-7676-4692-d403-ad62755f5689"
      },
      "execution_count": 16,
      "outputs": [
        {
          "output_type": "stream",
          "name": "stdout",
          "text": [
            "Model: \"sequential\"\n",
            "_________________________________________________________________\n",
            " Layer (type)                Output Shape              Param #   \n",
            "=================================================================\n",
            " embedding (Embedding)       (None, 8, 10)             100000    \n",
            "                                                                 \n",
            "=================================================================\n",
            "Total params: 100000 (390.62 KB)\n",
            "Trainable params: 100000 (390.62 KB)\n",
            "Non-trainable params: 0 (0.00 Byte)\n",
            "_________________________________________________________________\n"
          ]
        }
      ]
    },
    {
      "cell_type": "code",
      "source": [
        "### 'The glass of milk' -- first sentence\n",
        "embedded_docs[0]"
      ],
      "metadata": {
        "colab": {
          "base_uri": "https://localhost:8080/"
        },
        "id": "k-HTtYMG4AQ_",
        "outputId": "3e1a684f-da2d-4892-f04d-c44bd917b4c6"
      },
      "execution_count": 17,
      "outputs": [
        {
          "output_type": "execute_result",
          "data": {
            "text/plain": [
              "array([   0,    0,    0,    0, 6026, 3678, 2556, 5068], dtype=int32)"
            ]
          },
          "metadata": {},
          "execution_count": 17
        }
      ]
    },
    {
      "cell_type": "code",
      "source": [
        "print(model.predict(embedded_docs[0]))"
      ],
      "metadata": {
        "colab": {
          "base_uri": "https://localhost:8080/"
        },
        "id": "MX572Tt1h00T",
        "outputId": "4f490055-5939-4ca5-efb7-83b87a649af4"
      },
      "execution_count": 18,
      "outputs": [
        {
          "output_type": "stream",
          "name": "stdout",
          "text": [
            "1/1 [==============================] - 0s 177ms/step\n",
            "[[ 0.01858428  0.02680499  0.01744356  0.01456142  0.04174199  0.0297544\n",
            "  -0.03461748 -0.01493578  0.03189256  0.02773218]\n",
            " [ 0.01858428  0.02680499  0.01744356  0.01456142  0.04174199  0.0297544\n",
            "  -0.03461748 -0.01493578  0.03189256  0.02773218]\n",
            " [ 0.01858428  0.02680499  0.01744356  0.01456142  0.04174199  0.0297544\n",
            "  -0.03461748 -0.01493578  0.03189256  0.02773218]\n",
            " [ 0.01858428  0.02680499  0.01744356  0.01456142  0.04174199  0.0297544\n",
            "  -0.03461748 -0.01493578  0.03189256  0.02773218]\n",
            " [ 0.01341571  0.04078356  0.00408313 -0.0032902  -0.03525608 -0.03551003\n",
            "  -0.04975706 -0.04014855  0.01774174 -0.04581623]\n",
            " [-0.03134952  0.02977896 -0.03021019  0.01709202  0.01496582 -0.03488215\n",
            "   0.03752308  0.00755079  0.0080502   0.04960139]\n",
            " [ 0.02465906 -0.04004981  0.01443166 -0.02130209  0.0154174   0.01511149\n",
            "  -0.03810322  0.00458755 -0.02016917  0.00652839]\n",
            " [ 0.02853651  0.0420163  -0.00260217  0.01168463  0.00248306 -0.02899214\n",
            "  -0.04324913  0.01823684 -0.00050105 -0.00713273]]\n"
          ]
        }
      ]
    },
    {
      "cell_type": "code",
      "source": [
        "print(model.predict(embedded_docs))"
      ],
      "metadata": {
        "colab": {
          "base_uri": "https://localhost:8080/"
        },
        "id": "RGnX7zHn3mhr",
        "outputId": "8fffabea-75fb-4e48-d781-420719902cab"
      },
      "execution_count": 19,
      "outputs": [
        {
          "output_type": "stream",
          "name": "stdout",
          "text": [
            "1/1 [==============================] - 0s 43ms/step\n",
            "[[[ 1.8584277e-02  2.6804987e-02  1.7443564e-02  1.4561418e-02\n",
            "    4.1741993e-02  2.9754404e-02 -3.4617484e-02 -1.4935780e-02\n",
            "    3.1892564e-02  2.7732182e-02]\n",
            "  [ 1.8584277e-02  2.6804987e-02  1.7443564e-02  1.4561418e-02\n",
            "    4.1741993e-02  2.9754404e-02 -3.4617484e-02 -1.4935780e-02\n",
            "    3.1892564e-02  2.7732182e-02]\n",
            "  [ 1.8584277e-02  2.6804987e-02  1.7443564e-02  1.4561418e-02\n",
            "    4.1741993e-02  2.9754404e-02 -3.4617484e-02 -1.4935780e-02\n",
            "    3.1892564e-02  2.7732182e-02]\n",
            "  [ 1.8584277e-02  2.6804987e-02  1.7443564e-02  1.4561418e-02\n",
            "    4.1741993e-02  2.9754404e-02 -3.4617484e-02 -1.4935780e-02\n",
            "    3.1892564e-02  2.7732182e-02]\n",
            "  [ 1.3415705e-02  4.0783558e-02  4.0831342e-03 -3.2901987e-03\n",
            "   -3.5256077e-02 -3.5510026e-02 -4.9757063e-02 -4.0148545e-02\n",
            "    1.7741743e-02 -4.5816232e-02]\n",
            "  [-3.1349517e-02  2.9778961e-02 -3.0210186e-02  1.7092023e-02\n",
            "    1.4965821e-02 -3.4882151e-02  3.7523080e-02  7.5507872e-03\n",
            "    8.0502033e-03  4.9601387e-02]\n",
            "  [ 2.4659064e-02 -4.0049814e-02  1.4431659e-02 -2.1302093e-02\n",
            "    1.5417401e-02  1.5111495e-02 -3.8103223e-02  4.5875534e-03\n",
            "   -2.0169174e-02  6.5283887e-03]\n",
            "  [ 2.8536510e-02  4.2016301e-02 -2.6021712e-03  1.1684634e-02\n",
            "    2.4830587e-03 -2.8992141e-02 -4.3249130e-02  1.8236842e-02\n",
            "   -5.0104782e-04 -7.1327314e-03]]\n",
            "\n",
            " [[ 1.8584277e-02  2.6804987e-02  1.7443564e-02  1.4561418e-02\n",
            "    4.1741993e-02  2.9754404e-02 -3.4617484e-02 -1.4935780e-02\n",
            "    3.1892564e-02  2.7732182e-02]\n",
            "  [ 1.8584277e-02  2.6804987e-02  1.7443564e-02  1.4561418e-02\n",
            "    4.1741993e-02  2.9754404e-02 -3.4617484e-02 -1.4935780e-02\n",
            "    3.1892564e-02  2.7732182e-02]\n",
            "  [ 1.8584277e-02  2.6804987e-02  1.7443564e-02  1.4561418e-02\n",
            "    4.1741993e-02  2.9754404e-02 -3.4617484e-02 -1.4935780e-02\n",
            "    3.1892564e-02  2.7732182e-02]\n",
            "  [ 1.8584277e-02  2.6804987e-02  1.7443564e-02  1.4561418e-02\n",
            "    4.1741993e-02  2.9754404e-02 -3.4617484e-02 -1.4935780e-02\n",
            "    3.1892564e-02  2.7732182e-02]\n",
            "  [ 1.3415705e-02  4.0783558e-02  4.0831342e-03 -3.2901987e-03\n",
            "   -3.5256077e-02 -3.5510026e-02 -4.9757063e-02 -4.0148545e-02\n",
            "    1.7741743e-02 -4.5816232e-02]\n",
            "  [-3.1349517e-02  2.9778961e-02 -3.0210186e-02  1.7092023e-02\n",
            "    1.4965821e-02 -3.4882151e-02  3.7523080e-02  7.5507872e-03\n",
            "    8.0502033e-03  4.9601387e-02]\n",
            "  [ 2.4659064e-02 -4.0049814e-02  1.4431659e-02 -2.1302093e-02\n",
            "    1.5417401e-02  1.5111495e-02 -3.8103223e-02  4.5875534e-03\n",
            "   -2.0169174e-02  6.5283887e-03]\n",
            "  [ 4.3882284e-02  2.6037004e-02  8.7894797e-03  6.4036362e-03\n",
            "    2.6375104e-02 -3.2621372e-02 -2.6344240e-02  4.2177651e-02\n",
            "   -4.9764752e-02  3.3188272e-02]]\n",
            "\n",
            " [[ 1.8584277e-02  2.6804987e-02  1.7443564e-02  1.4561418e-02\n",
            "    4.1741993e-02  2.9754404e-02 -3.4617484e-02 -1.4935780e-02\n",
            "    3.1892564e-02  2.7732182e-02]\n",
            "  [ 1.8584277e-02  2.6804987e-02  1.7443564e-02  1.4561418e-02\n",
            "    4.1741993e-02  2.9754404e-02 -3.4617484e-02 -1.4935780e-02\n",
            "    3.1892564e-02  2.7732182e-02]\n",
            "  [ 1.8584277e-02  2.6804987e-02  1.7443564e-02  1.4561418e-02\n",
            "    4.1741993e-02  2.9754404e-02 -3.4617484e-02 -1.4935780e-02\n",
            "    3.1892564e-02  2.7732182e-02]\n",
            "  [ 1.8584277e-02  2.6804987e-02  1.7443564e-02  1.4561418e-02\n",
            "    4.1741993e-02  2.9754404e-02 -3.4617484e-02 -1.4935780e-02\n",
            "    3.1892564e-02  2.7732182e-02]\n",
            "  [ 1.3415705e-02  4.0783558e-02  4.0831342e-03 -3.2901987e-03\n",
            "   -3.5256077e-02 -3.5510026e-02 -4.9757063e-02 -4.0148545e-02\n",
            "    1.7741743e-02 -4.5816232e-02]\n",
            "  [-5.7436600e-03 -5.3412542e-03 -4.1091215e-02 -4.4016719e-02\n",
            "    4.2648736e-02  6.8817511e-03 -2.9067695e-02  3.8430635e-02\n",
            "   -3.3497587e-02 -4.6671417e-02]\n",
            "  [ 2.4659064e-02 -4.0049814e-02  1.4431659e-02 -2.1302093e-02\n",
            "    1.5417401e-02  1.5111495e-02 -3.8103223e-02  4.5875534e-03\n",
            "   -2.0169174e-02  6.5283887e-03]\n",
            "  [ 4.1600060e-02  4.9180869e-02  4.1109491e-02 -3.9017618e-02\n",
            "   -4.3116000e-02  1.1610724e-02  4.5748185e-02 -3.3519913e-02\n",
            "    8.3274953e-03  4.8296656e-02]]\n",
            "\n",
            " [[ 1.8584277e-02  2.6804987e-02  1.7443564e-02  1.4561418e-02\n",
            "    4.1741993e-02  2.9754404e-02 -3.4617484e-02 -1.4935780e-02\n",
            "    3.1892564e-02  2.7732182e-02]\n",
            "  [ 1.8584277e-02  2.6804987e-02  1.7443564e-02  1.4561418e-02\n",
            "    4.1741993e-02  2.9754404e-02 -3.4617484e-02 -1.4935780e-02\n",
            "    3.1892564e-02  2.7732182e-02]\n",
            "  [ 1.8584277e-02  2.6804987e-02  1.7443564e-02  1.4561418e-02\n",
            "    4.1741993e-02  2.9754404e-02 -3.4617484e-02 -1.4935780e-02\n",
            "    3.1892564e-02  2.7732182e-02]\n",
            "  [ 4.8176039e-02  3.7067953e-02  6.0860515e-03  1.7820407e-02\n",
            "   -8.1219524e-04  4.3528441e-02  3.3627097e-02 -1.3482012e-02\n",
            "    9.7484589e-03  2.2223022e-02]\n",
            "  [-1.1117019e-02 -3.2250442e-02  3.1822633e-02 -1.0633599e-02\n",
            "   -1.5867949e-02 -4.8271786e-02 -3.6745120e-02  1.6044963e-02\n",
            "   -1.5286982e-02 -3.6059212e-02]\n",
            "  [ 1.2094378e-03  3.8093328e-04  4.2215060e-02  2.7755331e-02\n",
            "    4.1291211e-02 -4.4029545e-02  7.7047944e-03 -8.4093101e-03\n",
            "   -2.7204573e-02  2.5253441e-02]\n",
            "  [ 2.1837343e-02  3.7697587e-02 -4.3805707e-02  3.0946303e-02\n",
            "    3.2288838e-02  4.8762713e-02  3.6364328e-02 -2.1764696e-02\n",
            "    1.9020643e-02  9.1433525e-05]\n",
            "  [ 3.3406261e-02 -9.2452765e-04 -9.3281269e-03  2.0133678e-02\n",
            "    3.6664382e-03 -3.5973083e-02  1.6303565e-02 -1.4647640e-02\n",
            "    4.0830541e-02  2.8225150e-02]]\n",
            "\n",
            " [[ 1.8584277e-02  2.6804987e-02  1.7443564e-02  1.4561418e-02\n",
            "    4.1741993e-02  2.9754404e-02 -3.4617484e-02 -1.4935780e-02\n",
            "    3.1892564e-02  2.7732182e-02]\n",
            "  [ 1.8584277e-02  2.6804987e-02  1.7443564e-02  1.4561418e-02\n",
            "    4.1741993e-02  2.9754404e-02 -3.4617484e-02 -1.4935780e-02\n",
            "    3.1892564e-02  2.7732182e-02]\n",
            "  [ 1.8584277e-02  2.6804987e-02  1.7443564e-02  1.4561418e-02\n",
            "    4.1741993e-02  2.9754404e-02 -3.4617484e-02 -1.4935780e-02\n",
            "    3.1892564e-02  2.7732182e-02]\n",
            "  [ 4.8176039e-02  3.7067953e-02  6.0860515e-03  1.7820407e-02\n",
            "   -8.1219524e-04  4.3528441e-02  3.3627097e-02 -1.3482012e-02\n",
            "    9.7484589e-03  2.2223022e-02]\n",
            "  [-1.1117019e-02 -3.2250442e-02  3.1822633e-02 -1.0633599e-02\n",
            "   -1.5867949e-02 -4.8271786e-02 -3.6745120e-02  1.6044963e-02\n",
            "   -1.5286982e-02 -3.6059212e-02]\n",
            "  [ 1.2094378e-03  3.8093328e-04  4.2215060e-02  2.7755331e-02\n",
            "    4.1291211e-02 -4.4029545e-02  7.7047944e-03 -8.4093101e-03\n",
            "   -2.7204573e-02  2.5253441e-02]\n",
            "  [ 2.1837343e-02  3.7697587e-02 -4.3805707e-02  3.0946303e-02\n",
            "    3.2288838e-02  4.8762713e-02  3.6364328e-02 -2.1764696e-02\n",
            "    1.9020643e-02  9.1433525e-05]\n",
            "  [ 3.1139601e-02  4.0491689e-02  3.0383613e-02  7.0619583e-04\n",
            "   -2.9140426e-02  4.3010600e-03 -4.2310357e-02  3.8944948e-02\n",
            "   -3.7111808e-02  7.5241327e-03]]\n",
            "\n",
            " [[ 1.8584277e-02  2.6804987e-02  1.7443564e-02  1.4561418e-02\n",
            "    4.1741993e-02  2.9754404e-02 -3.4617484e-02 -1.4935780e-02\n",
            "    3.1892564e-02  2.7732182e-02]\n",
            "  [ 1.8584277e-02  2.6804987e-02  1.7443564e-02  1.4561418e-02\n",
            "    4.1741993e-02  2.9754404e-02 -3.4617484e-02 -1.4935780e-02\n",
            "    3.1892564e-02  2.7732182e-02]\n",
            "  [ 1.8584277e-02  2.6804987e-02  1.7443564e-02  1.4561418e-02\n",
            "    4.1741993e-02  2.9754404e-02 -3.4617484e-02 -1.4935780e-02\n",
            "    3.1892564e-02  2.7732182e-02]\n",
            "  [ 1.9211676e-02  2.2260215e-02 -8.5088834e-03 -4.6140339e-02\n",
            "   -2.5905741e-02 -2.2049062e-03 -2.6200105e-02  3.3047725e-02\n",
            "    2.2670675e-02  4.0751696e-03]\n",
            "  [ 1.3415705e-02  4.0783558e-02  4.0831342e-03 -3.2901987e-03\n",
            "   -3.5256077e-02 -3.5510026e-02 -4.9757063e-02 -4.0148545e-02\n",
            "    1.7741743e-02 -4.5816232e-02]\n",
            "  [-1.0230016e-02  2.7448479e-02  1.1592023e-03 -1.2050856e-02\n",
            "    4.7175933e-02 -4.6843577e-02  1.8500958e-02  1.7964114e-02\n",
            "    3.4427296e-02 -1.9682422e-03]\n",
            "  [ 2.4659064e-02 -4.0049814e-02  1.4431659e-02 -2.1302093e-02\n",
            "    1.5417401e-02  1.5111495e-02 -3.8103223e-02  4.5875534e-03\n",
            "   -2.0169174e-02  6.5283887e-03]\n",
            "  [ 4.1720834e-02  3.7893023e-02  1.9111846e-02 -1.1405814e-02\n",
            "    2.4819423e-02  2.7430307e-02 -3.8708210e-02  1.9106243e-02\n",
            "    3.4253206e-02  3.7798945e-02]]\n",
            "\n",
            " [[ 1.8584277e-02  2.6804987e-02  1.7443564e-02  1.4561418e-02\n",
            "    4.1741993e-02  2.9754404e-02 -3.4617484e-02 -1.4935780e-02\n",
            "    3.1892564e-02  2.7732182e-02]\n",
            "  [ 1.8584277e-02  2.6804987e-02  1.7443564e-02  1.4561418e-02\n",
            "    4.1741993e-02  2.9754404e-02 -3.4617484e-02 -1.4935780e-02\n",
            "    3.1892564e-02  2.7732182e-02]\n",
            "  [ 1.8584277e-02  2.6804987e-02  1.7443564e-02  1.4561418e-02\n",
            "    4.1741993e-02  2.9754404e-02 -3.4617484e-02 -1.4935780e-02\n",
            "    3.1892564e-02  2.7732182e-02]\n",
            "  [ 1.8584277e-02  2.6804987e-02  1.7443564e-02  1.4561418e-02\n",
            "    4.1741993e-02  2.9754404e-02 -3.4617484e-02 -1.4935780e-02\n",
            "    3.1892564e-02  2.7732182e-02]\n",
            "  [-2.6805604e-02  4.5656811e-02  6.2674284e-03 -1.7514452e-03\n",
            "   -2.1767473e-02  4.0210988e-02  2.5716592e-02  2.0419028e-02\n",
            "    2.6747178e-02 -3.5042059e-02]\n",
            "  [ 2.1286551e-02 -1.3584793e-02 -2.6129603e-02  4.0356144e-03\n",
            "   -1.8697441e-02 -2.4197711e-02 -2.1457052e-02  1.3389055e-02\n",
            "   -4.5774769e-02 -3.9081685e-03]\n",
            "  [ 4.5552026e-02  2.7484410e-03 -4.1929707e-03  4.7549009e-03\n",
            "    3.8821127e-02  2.0803694e-02 -1.9528521e-02  1.3527755e-02\n",
            "   -8.1530698e-03  1.9196495e-03]\n",
            "  [ 2.1837343e-02  3.7697587e-02 -4.3805707e-02  3.0946303e-02\n",
            "    3.2288838e-02  4.8762713e-02  3.6364328e-02 -2.1764696e-02\n",
            "    1.9020643e-02  9.1433525e-05]]]\n"
          ]
        }
      ]
    },
    {
      "cell_type": "code",
      "source": [
        "### Assignment\n",
        "\n",
        "sent_new = [\"The world is a better place\",\n",
        "            \"Marvel series is my favourite movie\",\n",
        "            \"I like DC movies\",\n",
        "            \"the cat is eating the food\",\n",
        "            \"Tom and jerry is my favourite movie\",\n",
        "            \"Python is my favourite programming language\"]"
      ],
      "metadata": {
        "id": "X-z-qSki4HH6"
      },
      "execution_count": 20,
      "outputs": []
    },
    {
      "cell_type": "code",
      "source": [
        "sent_new"
      ],
      "metadata": {
        "colab": {
          "base_uri": "https://localhost:8080/"
        },
        "id": "ZwE0nLdNnNcZ",
        "outputId": "a720a936-c367-4b0a-8811-27268b41562e"
      },
      "execution_count": 21,
      "outputs": [
        {
          "output_type": "execute_result",
          "data": {
            "text/plain": [
              "['The world is a better place',\n",
              " 'Marvel series is my favourite movie',\n",
              " 'I like DC movies',\n",
              " 'the cat is eating the food',\n",
              " 'Tom and jerry is my favourite movie',\n",
              " 'Python is my favourite programming language']"
            ]
          },
          "metadata": {},
          "execution_count": 21
        }
      ]
    },
    {
      "cell_type": "code",
      "source": [
        "voc_size = 50000"
      ],
      "metadata": {
        "id": "UORm_qRdnRI7"
      },
      "execution_count": 22,
      "outputs": []
    },
    {
      "cell_type": "code",
      "source": [
        "## one hot representation\n",
        "onehot_repr_new = [one_hot(words,voc_size) for words in sent_new]\n",
        "print(onehot_repr_new)"
      ],
      "metadata": {
        "colab": {
          "base_uri": "https://localhost:8080/"
        },
        "id": "os4ymatynWfL",
        "outputId": "94a2fb70-e24f-46a2-ad24-f18e58055b61"
      },
      "execution_count": 23,
      "outputs": [
        {
          "output_type": "stream",
          "name": "stdout",
          "text": [
            "[[38599, 9753, 49882, 40449, 4590, 40639], [28329, 7267, 49882, 31436, 34222, 41570], [13760, 16719, 4746, 31267], [38599, 892, 49882, 26166, 38599, 38876], [600, 16429, 22915, 49882, 31436, 34222, 41570], [37111, 49882, 31436, 34222, 26084, 19487]]\n"
          ]
        }
      ]
    },
    {
      "cell_type": "code",
      "source": [
        "# POST PADDING\n",
        "sent_length = 10\n",
        "embedded_docs = pad_sequences(onehot_repr, padding='post',maxlen=sent_length)\n",
        "print(embedded_docs)"
      ],
      "metadata": {
        "colab": {
          "base_uri": "https://localhost:8080/"
        },
        "id": "rNJ38ICcngqE",
        "outputId": "ff6382e9-51e2-4cde-cf53-105260953cd3"
      },
      "execution_count": 24,
      "outputs": [
        {
          "output_type": "stream",
          "name": "stdout",
          "text": [
            "[[6026 3678 2556 5068    0    0    0    0    0    0]\n",
            " [6026 3678 2556 8945    0    0    0    0    0    0]\n",
            " [6026 8665 2556 3046    0    0    0    0    0    0]\n",
            " [3950 5050 8635 4390 7993    0    0    0    0    0]\n",
            " [3950 5050 8635 4390 8559    0    0    0    0    0]\n",
            " [4759 6026 3730 2556 1450    0    0    0    0    0]\n",
            " [5062 4193  385 4390    0    0    0    0    0    0]]\n"
          ]
        }
      ]
    },
    {
      "cell_type": "code",
      "source": [
        "dim=20"
      ],
      "metadata": {
        "id": "jzf4soJVnt3A"
      },
      "execution_count": 25,
      "outputs": []
    },
    {
      "cell_type": "code",
      "source": [
        "model=Sequential()\n",
        "model.add(Embedding(voc_size,20,input_length=sent_length))\n",
        "model.compile('adam','mse')"
      ],
      "metadata": {
        "id": "1aYLjh2an0m2"
      },
      "execution_count": 26,
      "outputs": []
    },
    {
      "cell_type": "code",
      "source": [
        "model.summary()"
      ],
      "metadata": {
        "colab": {
          "base_uri": "https://localhost:8080/"
        },
        "id": "rQswnr19n6mG",
        "outputId": "67ba7712-f828-4893-eccf-43ab827b0d63"
      },
      "execution_count": 27,
      "outputs": [
        {
          "output_type": "stream",
          "name": "stdout",
          "text": [
            "Model: \"sequential_1\"\n",
            "_________________________________________________________________\n",
            " Layer (type)                Output Shape              Param #   \n",
            "=================================================================\n",
            " embedding_1 (Embedding)     (None, 10, 20)            1000000   \n",
            "                                                                 \n",
            "=================================================================\n",
            "Total params: 1000000 (3.81 MB)\n",
            "Trainable params: 1000000 (3.81 MB)\n",
            "Non-trainable params: 0 (0.00 Byte)\n",
            "_________________________________________________________________\n"
          ]
        }
      ]
    },
    {
      "cell_type": "code",
      "source": [
        "print(model.predict(embedded_docs))"
      ],
      "metadata": {
        "colab": {
          "base_uri": "https://localhost:8080/"
        },
        "id": "_xZsGjA_oA6n",
        "outputId": "274168b6-4386-49e1-cb97-610a4f1ffb3f"
      },
      "execution_count": 28,
      "outputs": [
        {
          "output_type": "stream",
          "name": "stdout",
          "text": [
            "1/1 [==============================] - 0s 47ms/step\n",
            "[[[-0.02872952  0.03988805  0.04573771 ... -0.04198503 -0.0143496\n",
            "    0.00879817]\n",
            "  [-0.01666056 -0.0043491   0.00207754 ... -0.01819021 -0.03344234\n",
            "    0.0145745 ]\n",
            "  [ 0.04652074 -0.03324814 -0.03861304 ... -0.03522118 -0.00549439\n",
            "    0.01036888]\n",
            "  ...\n",
            "  [ 0.02973226  0.01869703  0.01708371 ...  0.03882045  0.00567507\n",
            "    0.03321124]\n",
            "  [ 0.02973226  0.01869703  0.01708371 ...  0.03882045  0.00567507\n",
            "    0.03321124]\n",
            "  [ 0.02973226  0.01869703  0.01708371 ...  0.03882045  0.00567507\n",
            "    0.03321124]]\n",
            "\n",
            " [[-0.02872952  0.03988805  0.04573771 ... -0.04198503 -0.0143496\n",
            "    0.00879817]\n",
            "  [-0.01666056 -0.0043491   0.00207754 ... -0.01819021 -0.03344234\n",
            "    0.0145745 ]\n",
            "  [ 0.04652074 -0.03324814 -0.03861304 ... -0.03522118 -0.00549439\n",
            "    0.01036888]\n",
            "  ...\n",
            "  [ 0.02973226  0.01869703  0.01708371 ...  0.03882045  0.00567507\n",
            "    0.03321124]\n",
            "  [ 0.02973226  0.01869703  0.01708371 ...  0.03882045  0.00567507\n",
            "    0.03321124]\n",
            "  [ 0.02973226  0.01869703  0.01708371 ...  0.03882045  0.00567507\n",
            "    0.03321124]]\n",
            "\n",
            " [[-0.02872952  0.03988805  0.04573771 ... -0.04198503 -0.0143496\n",
            "    0.00879817]\n",
            "  [ 0.00434711  0.01954323 -0.01634527 ... -0.00290494  0.02247895\n",
            "    0.04642667]\n",
            "  [ 0.04652074 -0.03324814 -0.03861304 ... -0.03522118 -0.00549439\n",
            "    0.01036888]\n",
            "  ...\n",
            "  [ 0.02973226  0.01869703  0.01708371 ...  0.03882045  0.00567507\n",
            "    0.03321124]\n",
            "  [ 0.02973226  0.01869703  0.01708371 ...  0.03882045  0.00567507\n",
            "    0.03321124]\n",
            "  [ 0.02973226  0.01869703  0.01708371 ...  0.03882045  0.00567507\n",
            "    0.03321124]]\n",
            "\n",
            " ...\n",
            "\n",
            " [[ 0.04338569 -0.00387033  0.04060629 ...  0.01159035  0.04997275\n",
            "   -0.03344234]\n",
            "  [ 0.04720365 -0.00413191  0.01681182 ... -0.04031368  0.02991151\n",
            "   -0.04372617]\n",
            "  [ 0.01052522  0.00883558 -0.01599514 ... -0.00667695  0.01578647\n",
            "   -0.02735658]\n",
            "  ...\n",
            "  [ 0.02973226  0.01869703  0.01708371 ...  0.03882045  0.00567507\n",
            "    0.03321124]\n",
            "  [ 0.02973226  0.01869703  0.01708371 ...  0.03882045  0.00567507\n",
            "    0.03321124]\n",
            "  [ 0.02973226  0.01869703  0.01708371 ...  0.03882045  0.00567507\n",
            "    0.03321124]]\n",
            "\n",
            " [[-0.04706815  0.00646676  0.02835866 ...  0.0497952  -0.02847981\n",
            "   -0.04729216]\n",
            "  [-0.02872952  0.03988805  0.04573771 ... -0.04198503 -0.0143496\n",
            "    0.00879817]\n",
            "  [-0.0078709  -0.01439786  0.01152446 ... -0.04244428  0.01324245\n",
            "    0.027193  ]\n",
            "  ...\n",
            "  [ 0.02973226  0.01869703  0.01708371 ...  0.03882045  0.00567507\n",
            "    0.03321124]\n",
            "  [ 0.02973226  0.01869703  0.01708371 ...  0.03882045  0.00567507\n",
            "    0.03321124]\n",
            "  [ 0.02973226  0.01869703  0.01708371 ...  0.03882045  0.00567507\n",
            "    0.03321124]]\n",
            "\n",
            " [[-0.01627183  0.03777548  0.01282419 ...  0.03819988 -0.03952271\n",
            "    0.01743927]\n",
            "  [ 0.03521495 -0.00496091 -0.04753556 ... -0.01544999 -0.02987993\n",
            "    0.04987383]\n",
            "  [ 0.03172941 -0.00015035  0.02307181 ...  0.00069032 -0.00856481\n",
            "    0.03043003]\n",
            "  ...\n",
            "  [ 0.02973226  0.01869703  0.01708371 ...  0.03882045  0.00567507\n",
            "    0.03321124]\n",
            "  [ 0.02973226  0.01869703  0.01708371 ...  0.03882045  0.00567507\n",
            "    0.03321124]\n",
            "  [ 0.02973226  0.01869703  0.01708371 ...  0.03882045  0.00567507\n",
            "    0.03321124]]]\n"
          ]
        }
      ]
    },
    {
      "cell_type": "code",
      "source": [],
      "metadata": {
        "id": "s0kxM51joMjs"
      },
      "execution_count": null,
      "outputs": []
    }
  ]
}